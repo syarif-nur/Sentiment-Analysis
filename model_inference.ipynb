{
 "cells": [
  {
   "cell_type": "code",
   "execution_count": 3,
   "id": "917db0ac-2f73-46eb-b401-51c5d222ff97",
   "metadata": {},
   "outputs": [
    {
     "name": "stdout",
     "output_type": "stream",
     "text": [
      "\u001b[1m1/1\u001b[0m \u001b[32m━━━━━━━━━━━━━━━━━━━━\u001b[0m\u001b[37m\u001b[0m \u001b[1m0s\u001b[0m 20ms/step\n",
      "Text: 'bad bad bad bad bad' → Prediction: negative\n",
      "Text: 'good good good perfect' → Prediction: positive\n",
      "Text: 'bad game' → Prediction: negative\n"
     ]
    }
   ],
   "source": [
    "# Load the saved components\n",
    "tfidf = joblib.load('tfidf_vectorizer.pkl')\n",
    "selector = joblib.load('selectkbest.pkl')\n",
    "label_encoder = joblib.load('label_encoder.pkl')\n",
    "model = joblib.load('model.pkl')\n",
    "\n",
    "# Sample new data\n",
    "new_data = [\"bad bad bad bad bad\", \"good good good perfect\", \"bad game\"]\n",
    "\n",
    "# Transform using TF-IDF\n",
    "new_data_tfidf = tfidf.transform(new_data)\n",
    "\n",
    "# Apply feature selection\n",
    "new_data_selected = selector.transform(new_data_tfidf)\n",
    "\n",
    "# Predict using the trained model\n",
    "predictions = model.predict(new_data_selected.toarray())\n",
    "\n",
    "# Convert predictions to labels\n",
    "predicted_classes = (predictions >= 0.5).astype(int)\n",
    "predicted_labels = label_encoder.inverse_transform(predicted_classes.ravel())\n",
    "\n",
    "# Print results\n",
    "for text, label in zip(new_data, predicted_labels):\n",
    "    print(f\"Text: '{text}' → Prediction: {label}\")\n"
   ]
  },
  {
   "cell_type": "code",
   "execution_count": null,
   "id": "b5341dab-ba76-489e-8092-8e257c3cafb4",
   "metadata": {},
   "outputs": [],
   "source": []
  }
 ],
 "metadata": {
  "kernelspec": {
   "display_name": "Python 3 (ipykernel)",
   "language": "python",
   "name": "python3"
  },
  "language_info": {
   "codemirror_mode": {
    "name": "ipython",
    "version": 3
   },
   "file_extension": ".py",
   "mimetype": "text/x-python",
   "name": "python",
   "nbconvert_exporter": "python",
   "pygments_lexer": "ipython3",
   "version": "3.10.15"
  }
 },
 "nbformat": 4,
 "nbformat_minor": 5
}
